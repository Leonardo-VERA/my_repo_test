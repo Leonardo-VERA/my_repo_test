{
 "cells": [
  {
   "cell_type": "markdown",
   "metadata": {},
   "source": [
    "#### aqui trabajaremos  los codigos del libro hand son machine learning e iremos probandon lo que encontremos en el libro, bases de datos etc."
   ]
  },
  {
   "cell_type": "markdown",
   "metadata": {},
   "source": [
    "###### \n",
    "* the Better Life Index data from the OECD’s website and stats about gross domestic\n",
    " * product (GDP) per capita from the IMF’s website."
   ]
  },
  {
   "cell_type": "code",
   "execution_count": 11,
   "metadata": {},
   "outputs": [
    {
     "name": "stdout",
     "output_type": "stream",
     "text": [
      "Collecting xmltodict\n",
      "  Downloading xmltodict-0.14.2-py2.py3-none-any.whl.metadata (8.0 kB)\n",
      "Downloading xmltodict-0.14.2-py2.py3-none-any.whl (10.0 kB)\n",
      "Installing collected packages: xmltodict\n",
      "Successfully installed xmltodict-0.14.2\n",
      "\n",
      "\u001b[1m[\u001b[0m\u001b[34;49mnotice\u001b[0m\u001b[1;39;49m]\u001b[0m\u001b[39;49m A new release of pip is available: \u001b[0m\u001b[31;49m24.3.1\u001b[0m\u001b[39;49m -> \u001b[0m\u001b[32;49m25.0\u001b[0m\n",
      "\u001b[1m[\u001b[0m\u001b[34;49mnotice\u001b[0m\u001b[1;39;49m]\u001b[0m\u001b[39;49m To update, run: \u001b[0m\u001b[32;49mpip install --upgrade pip\u001b[0m\n"
     ]
    }
   ],
   "source": [
    "!pip install xmltodict"
   ]
  },
  {
   "cell_type": "code",
   "execution_count": 21,
   "metadata": {},
   "outputs": [
    {
     "name": "stdout",
     "output_type": "stream",
     "text": [
      "✅ Datos obtenidos en XML\n",
      "✅ XML convertido a JSON y guardado\n",
      "{\n",
      "    \"message:GenericData\": {\n",
      "        \"@xmlns:footer\": \"http://www.sdmx.org/resources/sdmxml/schemas/v2_1/message/footer\",\n",
      "        \"@xmlns:generic\": \"http://www.sdmx.org/resources/sdmxml/schemas/v2_1/data/generic\",\n",
      "        \"@xmlns:message\": \"http://www.sdmx.org/resources/sdmxml/schemas/v2_1/message\",\n",
      "        \"@xmlns:common\": \"http://www.sdmx.org/resources/sdmxml/schemas/v2_1/common\",\n",
      "        \"@xmlns:xsi\": \"http://www.w3.org/2001/XMLSchema-instance\",\n",
      "        \"@xmlns:xml\": \"http://www.w3.org/XML/\n"
     ]
    }
   ],
   "source": [
    "import requests\n",
    "import xmltodict\n",
    "import json\n",
    "import pandas as pd\n",
    "\n",
    "# URL de la API\n",
    "url = \"https://sdmx.oecd.org/archive/rest/data/OECD,DF_BLI,/ISL+HUN+GRC+DEU+FRA+FIN+EST+DNK+CZE+CRI+COL+CHL+CAN+AUT+BEL+AUS.PS_REPH+SW_LIFS..MN+WMN?dimensionAtObservation=AllDimensions\"\n",
    "\n",
    "# Hacer la solicitud GET a la API\n",
    "response = requests.get(url)\n",
    "\n",
    "# Verificar si la solicitud fue exitosa\n",
    "if response.status_code == 200:\n",
    "    xml_data = response.text  # Obtener datos en XML\n",
    "    print(\"✅ Datos obtenidos en XML\")\n",
    "\n",
    "    # Convertir XML a un diccionario\n",
    "    data_dict = xmltodict.parse(xml_data)\n",
    "\n",
    "    # Convertir el diccionario a JSON\n",
    "    json_data = json.dumps(data_dict, indent=4)\n",
    "\n",
    "    # Guardar en un archivo JSON (Opcional)\n",
    "    with open(\"oecd_data.json\", \"w\", encoding=\"utf-8\") as json_file:\n",
    "        json_file.write(json_data)\n",
    "\n",
    "    print(\"✅ XML convertido a JSON y guardado\")\n",
    "\n",
    "    # Explorar la estructura\n",
    "    print(json_data[:500])  # Imprimir solo una parte para verificar\n",
    "else:\n",
    "    print(f\"❌ Error en la solicitud: {response.status_code}\")\n"
   ]
  },
  {
   "cell_type": "code",
   "execution_count": 22,
   "metadata": {},
   "outputs": [
    {
     "name": "stdout",
     "output_type": "stream",
     "text": [
      "dict_keys(['message:GenericData'])\n"
     ]
    }
   ],
   "source": [
    "import json\n",
    "\n",
    "# Cargar el JSON guardado\n",
    "with open(\"oecd_data.json\", \"r\", encoding=\"utf-8\") as json_file:\n",
    "    data = json.load(json_file)\n",
    "\n",
    "# Explorar las claves principales\n",
    "print(data.keys())  # Para ver las claves del JSON\n"
   ]
  },
  {
   "cell_type": "code",
   "execution_count": 23,
   "metadata": {},
   "outputs": [
    {
     "name": "stdout",
     "output_type": "stream",
     "text": [
      "  INEQUALITY LOCATION INDICATOR MEASURE Value\n",
      "0         MN      HUN   SW_LIFS       L   6.3\n",
      "1         MN      GRC   SW_LIFS       L     6\n",
      "2         MN      DEU   SW_LIFS       L   7.4\n",
      "3         MN      FRA   SW_LIFS       L   6.8\n",
      "4         MN      FIN   SW_LIFS       L   7.7\n"
     ]
    }
   ],
   "source": [
    "import json\n",
    "import pandas as pd\n",
    "\n",
    "# Cargar el JSON guardado\n",
    "with open(\"oecd_data.json\", \"r\", encoding=\"utf-8\") as json_file:\n",
    "    data = json.load(json_file)\n",
    "\n",
    "# Extraer la lista de observaciones\n",
    "observations = data[\"message:GenericData\"][\"message:DataSet\"][\"generic:Obs\"]\n",
    "\n",
    "# Crear una lista para almacenar los datos transformados\n",
    "data_list = []\n",
    "\n",
    "# Recorrer cada observación y extraer datos\n",
    "for obs in observations:\n",
    "    obs_key = {dim[\"@id\"]: dim[\"@value\"] for dim in obs[\"generic:ObsKey\"][\"generic:Value\"]}\n",
    "    obs_value = obs[\"generic:ObsValue\"][\"@value\"]  # Extrae el valor numérico\n",
    "    obs_key[\"Value\"] = obs_value  # Agregar la columna con el valor\n",
    "\n",
    "    data_list.append(obs_key)\n",
    "\n",
    "# Convertir la lista en un DataFrame\n",
    "df = pd.DataFrame(data_list)\n",
    "\n",
    "# Mostrar las primeras filas\n",
    "print(df.head())\n",
    "\n",
    "# Guardar en CSV (opcional)\n",
    "#df.to_csv(\"oecd_data_clean.csv\", index=False)\n"
   ]
  },
  {
   "cell_type": "code",
   "execution_count": 24,
   "metadata": {},
   "outputs": [
    {
     "data": {
      "text/html": [
       "<div>\n",
       "<style scoped>\n",
       "    .dataframe tbody tr th:only-of-type {\n",
       "        vertical-align: middle;\n",
       "    }\n",
       "\n",
       "    .dataframe tbody tr th {\n",
       "        vertical-align: top;\n",
       "    }\n",
       "\n",
       "    .dataframe thead th {\n",
       "        text-align: right;\n",
       "    }\n",
       "</style>\n",
       "<table border=\"1\" class=\"dataframe\">\n",
       "  <thead>\n",
       "    <tr style=\"text-align: right;\">\n",
       "      <th></th>\n",
       "      <th>INEQUALITY</th>\n",
       "      <th>LOCATION</th>\n",
       "      <th>INDICATOR</th>\n",
       "      <th>MEASURE</th>\n",
       "      <th>Value</th>\n",
       "    </tr>\n",
       "  </thead>\n",
       "  <tbody>\n",
       "    <tr>\n",
       "      <th>0</th>\n",
       "      <td>MN</td>\n",
       "      <td>HUN</td>\n",
       "      <td>SW_LIFS</td>\n",
       "      <td>L</td>\n",
       "      <td>6.3</td>\n",
       "    </tr>\n",
       "    <tr>\n",
       "      <th>1</th>\n",
       "      <td>MN</td>\n",
       "      <td>GRC</td>\n",
       "      <td>SW_LIFS</td>\n",
       "      <td>L</td>\n",
       "      <td>6</td>\n",
       "    </tr>\n",
       "    <tr>\n",
       "      <th>2</th>\n",
       "      <td>MN</td>\n",
       "      <td>DEU</td>\n",
       "      <td>SW_LIFS</td>\n",
       "      <td>L</td>\n",
       "      <td>7.4</td>\n",
       "    </tr>\n",
       "    <tr>\n",
       "      <th>3</th>\n",
       "      <td>MN</td>\n",
       "      <td>FRA</td>\n",
       "      <td>SW_LIFS</td>\n",
       "      <td>L</td>\n",
       "      <td>6.8</td>\n",
       "    </tr>\n",
       "    <tr>\n",
       "      <th>4</th>\n",
       "      <td>MN</td>\n",
       "      <td>FIN</td>\n",
       "      <td>SW_LIFS</td>\n",
       "      <td>L</td>\n",
       "      <td>7.7</td>\n",
       "    </tr>\n",
       "    <tr>\n",
       "      <th>...</th>\n",
       "      <td>...</td>\n",
       "      <td>...</td>\n",
       "      <td>...</td>\n",
       "      <td>...</td>\n",
       "      <td>...</td>\n",
       "    </tr>\n",
       "    <tr>\n",
       "      <th>59</th>\n",
       "      <td>MN</td>\n",
       "      <td>EST</td>\n",
       "      <td>PS_REPH</td>\n",
       "      <td>L</td>\n",
       "      <td>3.1</td>\n",
       "    </tr>\n",
       "    <tr>\n",
       "      <th>60</th>\n",
       "      <td>MN</td>\n",
       "      <td>CHL</td>\n",
       "      <td>PS_REPH</td>\n",
       "      <td>L</td>\n",
       "      <td>4.2</td>\n",
       "    </tr>\n",
       "    <tr>\n",
       "      <th>61</th>\n",
       "      <td>MN</td>\n",
       "      <td>ISL</td>\n",
       "      <td>PS_REPH</td>\n",
       "      <td>L</td>\n",
       "      <td>0.5</td>\n",
       "    </tr>\n",
       "    <tr>\n",
       "      <th>62</th>\n",
       "      <td>MN</td>\n",
       "      <td>ISL</td>\n",
       "      <td>SW_LIFS</td>\n",
       "      <td>L</td>\n",
       "      <td>7.4</td>\n",
       "    </tr>\n",
       "    <tr>\n",
       "      <th>63</th>\n",
       "      <td>MN</td>\n",
       "      <td>HUN</td>\n",
       "      <td>PS_REPH</td>\n",
       "      <td>L</td>\n",
       "      <td>1.1</td>\n",
       "    </tr>\n",
       "  </tbody>\n",
       "</table>\n",
       "<p>64 rows × 5 columns</p>\n",
       "</div>"
      ],
      "text/plain": [
       "   INEQUALITY LOCATION INDICATOR MEASURE Value\n",
       "0          MN      HUN   SW_LIFS       L   6.3\n",
       "1          MN      GRC   SW_LIFS       L     6\n",
       "2          MN      DEU   SW_LIFS       L   7.4\n",
       "3          MN      FRA   SW_LIFS       L   6.8\n",
       "4          MN      FIN   SW_LIFS       L   7.7\n",
       "..        ...      ...       ...     ...   ...\n",
       "59         MN      EST   PS_REPH       L   3.1\n",
       "60         MN      CHL   PS_REPH       L   4.2\n",
       "61         MN      ISL   PS_REPH       L   0.5\n",
       "62         MN      ISL   SW_LIFS       L   7.4\n",
       "63         MN      HUN   PS_REPH       L   1.1\n",
       "\n",
       "[64 rows x 5 columns]"
      ]
     },
     "execution_count": 24,
     "metadata": {},
     "output_type": "execute_result"
    }
   ],
   "source": [
    "df"
   ]
  },
  {
   "cell_type": "code",
   "execution_count": 26,
   "metadata": {},
   "outputs": [
    {
     "name": "stdout",
     "output_type": "stream",
     "text": [
      "<class 'pandas.core.frame.DataFrame'>\n",
      "RangeIndex: 64 entries, 0 to 63\n",
      "Data columns (total 5 columns):\n",
      " #   Column      Non-Null Count  Dtype \n",
      "---  ------      --------------  ----- \n",
      " 0   INEQUALITY  64 non-null     object\n",
      " 1   LOCATION    64 non-null     object\n",
      " 2   INDICATOR   64 non-null     object\n",
      " 3   MEASURE     64 non-null     object\n",
      " 4   Value       64 non-null     object\n",
      "dtypes: object(5)\n",
      "memory usage: 2.6+ KB\n"
     ]
    }
   ],
   "source": [
    "# inspect dataset df\n",
    "df.info()"
   ]
  },
  {
   "cell_type": "code",
   "execution_count": 27,
   "metadata": {},
   "outputs": [],
   "source": [
    "#transform column Value to numeric\n",
    "df[\"Value\"] = pd.to_numeric(df[\"Value\"], errors=\"coerce\")"
   ]
  },
  {
   "cell_type": "code",
   "execution_count": 28,
   "metadata": {},
   "outputs": [
    {
     "name": "stdout",
     "output_type": "stream",
     "text": [
      "<class 'pandas.core.frame.DataFrame'>\n",
      "RangeIndex: 64 entries, 0 to 63\n",
      "Data columns (total 5 columns):\n",
      " #   Column      Non-Null Count  Dtype  \n",
      "---  ------      --------------  -----  \n",
      " 0   INEQUALITY  64 non-null     object \n",
      " 1   LOCATION    64 non-null     object \n",
      " 2   INDICATOR   64 non-null     object \n",
      " 3   MEASURE     64 non-null     object \n",
      " 4   Value       64 non-null     float64\n",
      "dtypes: float64(1), object(4)\n",
      "memory usage: 2.6+ KB\n"
     ]
    }
   ],
   "source": [
    "df.info()"
   ]
  },
  {
   "cell_type": "code",
   "execution_count": null,
   "metadata": {},
   "outputs": [
    {
     "data": {
      "image/png": "[encoded data removed]",
      "text/plain": [
       "<Figure size 800x600 with 1 Axes>"
      ]
     },
     "metadata": {},
     "output_type": "display_data"
    }
   ],
   "source": [
    "# make a pi chart dividing the Value column and INEQUALITY column that represents the gender\n",
    "import matplotlib.pyplot as plt\n",
    "\n",
    "# Agrupar por género y calcular el promedio\n",
    "df_grouped = df.groupby(\"INEQUALITY\")[\"Value\"].mean()\n",
    "\n",
    "# Crear un gráfico de pastel\n",
    "plt.figure(figsize=(8, 6))\n",
    "plt.pie(df_grouped, labels=[\"Hombre\", \"Mujer\"], autopct=\"%1.1f%%\", startangle=140)\n",
    "plt.title(\"Promedio de Life Satisfaction por género\")\n",
    "plt.show()"
   ]
  },
  {
   "cell_type": "code",
   "execution_count": 32,
   "metadata": {},
   "outputs": [
    {
     "data": {
      "image/png": "[encoded data removed]",
      "text/plain": [
       "<Figure size 1200x600 with 1 Axes>"
      ]
     },
     "metadata": {},
     "output_type": "display_data"
    }
   ],
   "source": [
    "#make bar chart dividing the Value column and INEQUALITY column that by the country\n",
    "import seaborn as sns\n",
    "\n",
    "# Agrupar por país y calcular el promedio\n",
    "df_grouped = df.groupby(\"LOCATION\")[\"Value\"].mean().sort_values(ascending=False)\n",
    "\n",
    "# Crear un gráfico de barras\n",
    "plt.figure(figsize=(12, 6))\n",
    "sns.barplot(x=df_grouped.values, y=df_grouped.index, palette=\"viridis\")\n",
    "plt.xlabel(\"Promedio de Life Satisfaction\")\n",
    "plt.ylabel(\"País\")\n",
    "plt.title(\"Promedio de Life Satisfaction por país\")\n",
    "plt.show()"
   ]
  },
  {
   "cell_type": "code",
   "execution_count": 36,
   "metadata": {},
   "outputs": [
    {
     "data": {
      "image/png": "[encoded data removed]",
      "text/plain": [
       "<Figure size 1200x600 with 1 Axes>"
      ]
     },
     "metadata": {},
     "output_type": "display_data"
    }
   ],
   "source": [
    "#make bar chart to see the percentage of life satisfaction using WMN and MN by country\n",
    "# Agrupar por país y género\n",
    "df_grouped = df.groupby([\"LOCATION\", \"INEQUALITY\"])[\"Value\"].mean().unstack()\n",
    "\n",
    "# Crear un gráfico de barras\n",
    "df_grouped.plot(kind=\"bar\", figsize=(12, 6), color=[\"skyblue\", \"salmon\"])\n",
    "plt.xlabel(\"País\")\n",
    "plt.ylabel(\"Promedio de Life Satisfaction\")\n",
    "plt.title(\"Promedio de Life Satisfaction por país y género\")\n",
    "plt.legend(title=\"Género\")\n",
    "plt.show()"
   ]
  },
  {
   "cell_type": "code",
   "execution_count": 34,
   "metadata": {},
   "outputs": [
    {
     "data": {
      "text/plain": [
       "43.0"
      ]
     },
     "execution_count": 34,
     "metadata": {},
     "output_type": "execute_result"
    }
   ],
   "source": [
    "# valor mas alte de la columna Value\n",
    "df[\"Value\"].max()"
   ]
  },
  {
   "cell_type": "code",
   "execution_count": 35,
   "metadata": {},
   "outputs": [
    {
     "data": {
      "text/html": [
       "<div>\n",
       "<style scoped>\n",
       "    .dataframe tbody tr th:only-of-type {\n",
       "        vertical-align: middle;\n",
       "    }\n",
       "\n",
       "    .dataframe tbody tr th {\n",
       "        vertical-align: top;\n",
       "    }\n",
       "\n",
       "    .dataframe thead th {\n",
       "        text-align: right;\n",
       "    }\n",
       "</style>\n",
       "<table border=\"1\" class=\"dataframe\">\n",
       "  <thead>\n",
       "    <tr style=\"text-align: right;\">\n",
       "      <th></th>\n",
       "      <th>INEQUALITY</th>\n",
       "      <th>LOCATION</th>\n",
       "      <th>INDICATOR</th>\n",
       "      <th>MEASURE</th>\n",
       "      <th>Value</th>\n",
       "    </tr>\n",
       "  </thead>\n",
       "  <tbody>\n",
       "    <tr>\n",
       "      <th>13</th>\n",
       "      <td>WMN</td>\n",
       "      <td>COL</td>\n",
       "      <td>SW_LIFS</td>\n",
       "      <td>L</td>\n",
       "      <td>5.7</td>\n",
       "    </tr>\n",
       "    <tr>\n",
       "      <th>14</th>\n",
       "      <td>MN</td>\n",
       "      <td>COL</td>\n",
       "      <td>SW_LIFS</td>\n",
       "      <td>L</td>\n",
       "      <td>5.7</td>\n",
       "    </tr>\n",
       "    <tr>\n",
       "      <th>44</th>\n",
       "      <td>WMN</td>\n",
       "      <td>COL</td>\n",
       "      <td>PS_REPH</td>\n",
       "      <td>L</td>\n",
       "      <td>4.1</td>\n",
       "    </tr>\n",
       "    <tr>\n",
       "      <th>45</th>\n",
       "      <td>MN</td>\n",
       "      <td>COL</td>\n",
       "      <td>PS_REPH</td>\n",
       "      <td>L</td>\n",
       "      <td>43.0</td>\n",
       "    </tr>\n",
       "  </tbody>\n",
       "</table>\n",
       "</div>"
      ],
      "text/plain": [
       "   INEQUALITY LOCATION INDICATOR MEASURE  Value\n",
       "13        WMN      COL   SW_LIFS       L    5.7\n",
       "14         MN      COL   SW_LIFS       L    5.7\n",
       "44        WMN      COL   PS_REPH       L    4.1\n",
       "45         MN      COL   PS_REPH       L   43.0"
      ]
     },
     "execution_count": 35,
     "metadata": {},
     "output_type": "execute_result"
    }
   ],
   "source": [
    "# valor value correspondiente a LOCATION == \"COL\"\n",
    "df[df[\"LOCATION\"] == \"COL\"]"
   ]
  },
  {
   "cell_type": "code",
   "execution_count": null,
   "metadata": {},
   "outputs": [],
   "source": []
  }
 ],
 "metadata": {
  "kernelspec": {
   "display_name": "Artefact",
   "language": "python",
   "name": "python3"
  },
  "language_info": {
   "codemirror_mode": {
    "name": "ipython",
    "version": 3
   },
   "file_extension": ".py",
   "mimetype": "text/x-python",
   "name": "python",
   "nbconvert_exporter": "python",
   "pygments_lexer": "ipython3",
   "version": "3.10.12"
  }
 },
 "nbformat": 4,
 "nbformat_minor": 2
}
