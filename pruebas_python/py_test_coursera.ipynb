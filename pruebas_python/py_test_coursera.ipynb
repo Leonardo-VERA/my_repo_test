{
 "cells": [
  {
   "cell_type": "code",
   "execution_count": 5,
   "metadata": {},
   "outputs": [],
   "source": [
    "import pandas as pd"
   ]
  },
  {
   "cell_type": "code",
   "execution_count": null,
   "metadata": {},
   "outputs": [
    {
     "name": "stdout",
     "output_type": "stream",
     "text": [
      "362880\n"
     ]
    }
   ],
   "source": [
    "product = 1\n",
    "for n in range(1,10):\n",
    "    product *= n\n",
    "\n",
    "print(product)  \n",
    "# that was a simple way to calculate the factorial of 9\n"
   ]
  },
  {
   "cell_type": "code",
   "execution_count": 17,
   "metadata": {},
   "outputs": [
    {
     "name": "stdout",
     "output_type": "stream",
     "text": [
      "46\n"
     ]
    }
   ],
   "source": [
    "product2 = 1\n",
    "\n",
    "for n in range(1,10):\n",
    "    product2 += n\n",
    "\n",
    "print(product2)"
   ]
  },
  {
   "cell_type": "code",
   "execution_count": 19,
   "metadata": {},
   "outputs": [
    {
     "name": "stdout",
     "output_type": "stream",
     "text": [
      "0 | 11\n",
      "20 | 211\n",
      "40 | 411\n",
      "60 | 611\n",
      "80 | 811\n",
      "100 | 1011\n"
     ]
    }
   ],
   "source": [
    "def to_variable(w):\n",
    "    return w*10 + 11\n",
    "\n",
    "for w in range(0,101,20):\n",
    "    print(f\"{w} | {to_variable(w)}\") "
   ]
  },
  {
   "cell_type": "code",
   "execution_count": 25,
   "metadata": {},
   "outputs": [
    {
     "name": "stdout",
     "output_type": "stream",
     "text": [
      "100 | 9.0\n",
      "80 | 7.0\n",
      "60 | 5.0\n",
      "40 | 3.0\n",
      "20 | 1.0\n",
      "0 | -1.0\n",
      "-20 | -3.0\n",
      "-40 | -5.0\n",
      "-60 | -7.0\n",
      "-80 | -9.0\n"
     ]
    }
   ],
   "source": [
    "def to_variable_e(x):\n",
    "    return x/10 - 1\n",
    "\n",
    "for x in range(100,-100,-20):\n",
    "    print(f\"{x} | {to_variable_e(x)}\")\n",
    "# "
   ]
  },
  {
   "cell_type": "code",
   "execution_count": null,
   "metadata": {},
   "outputs": [
    {
     "name": "stdout",
     "output_type": "stream",
     "text": [
      "0 | -17.77777777777778\n",
      "10 | -12.222222222222221\n",
      "20 | -6.666666666666667\n",
      "30 | -1.1111111111111112\n",
      "40 | 4.444444444444445\n",
      "50 | 10.0\n",
      "60 | 15.555555555555555\n",
      "70 | 21.11111111111111\n",
      "80 | 26.666666666666668\n",
      "90 | 32.22222222222222\n",
      "100 | 37.77777777777778\n"
     ]
    }
   ],
   "source": [
    "def to_celsius(x):\n",
    "    return (x-32)*5/9\n",
    "for x in range(0,101,10):\n",
    "    print(f\"{x} | {to_celsius(x)}\")\n",
    "# this is a simple way to convert fahrenheit to celsius"
   ]
  },
  {
   "cell_type": "code",
   "execution_count": 28,
   "metadata": {},
   "outputs": [
    {
     "ename": "ValueError",
     "evalue": "too many values to unpack (expected 2)",
     "output_type": "error",
     "traceback": [
      "\u001b[0;31m---------------------------------------------------------------------------\u001b[0m",
      "\u001b[0;31mValueError\u001b[0m                                Traceback (most recent call last)",
      "Cell \u001b[0;32mIn[28], line 4\u001b[0m\n\u001b[1;32m      1\u001b[0m \u001b[38;5;28;01mdef\u001b[39;00m \u001b[38;5;21marea_paralel\u001b[39m(base,altura):\n\u001b[1;32m      2\u001b[0m     \u001b[38;5;28;01mreturn\u001b[39;00m base \u001b[38;5;241m*\u001b[39m altura\n\u001b[0;32m----> 4\u001b[0m \u001b[38;5;28;01mfor\u001b[39;00m x, y \u001b[38;5;129;01min\u001b[39;00m \u001b[38;5;28mrange\u001b[39m(\u001b[38;5;241m1\u001b[39m,\u001b[38;5;241m10\u001b[39m), \u001b[38;5;28mrange\u001b[39m(\u001b[38;5;241m2\u001b[39m,\u001b[38;5;241m11\u001b[39m):\n\u001b[1;32m      5\u001b[0m     \u001b[38;5;28mprint\u001b[39m(x, y, area_paralel(x,y))\n",
      "\u001b[0;31mValueError\u001b[0m: too many values to unpack (expected 2)"
     ]
    }
   ],
   "source": [
    "def area_paralel(base,altura):\n",
    "    return base * altura\n",
    "\n",
    "for x, y in range(1,10), range(2,11):\n",
    "    print(x, y, area_paralel(x,y))"
   ]
  },
  {
   "cell_type": "code",
   "execution_count": 29,
   "metadata": {},
   "outputs": [
    {
     "name": "stdout",
     "output_type": "stream",
     "text": [
      "1 2 2\n",
      "1 3 3\n",
      "1 4 4\n",
      "1 5 5\n",
      "1 6 6\n",
      "1 7 7\n",
      "1 8 8\n",
      "1 9 9\n",
      "1 10 10\n",
      "2 2 4\n",
      "2 3 6\n",
      "2 4 8\n",
      "2 5 10\n",
      "2 6 12\n",
      "2 7 14\n",
      "2 8 16\n",
      "2 9 18\n",
      "2 10 20\n",
      "3 2 6\n",
      "3 3 9\n",
      "3 4 12\n",
      "3 5 15\n",
      "3 6 18\n",
      "3 7 21\n",
      "3 8 24\n",
      "3 9 27\n",
      "3 10 30\n",
      "4 2 8\n",
      "4 3 12\n",
      "4 4 16\n",
      "4 5 20\n",
      "4 6 24\n",
      "4 7 28\n",
      "4 8 32\n",
      "4 9 36\n",
      "4 10 40\n",
      "5 2 10\n",
      "5 3 15\n",
      "5 4 20\n",
      "5 5 25\n",
      "5 6 30\n",
      "5 7 35\n",
      "5 8 40\n",
      "5 9 45\n",
      "5 10 50\n",
      "6 2 12\n",
      "6 3 18\n",
      "6 4 24\n",
      "6 5 30\n",
      "6 6 36\n",
      "6 7 42\n",
      "6 8 48\n",
      "6 9 54\n",
      "6 10 60\n",
      "7 2 14\n",
      "7 3 21\n",
      "7 4 28\n",
      "7 5 35\n",
      "7 6 42\n",
      "7 7 49\n",
      "7 8 56\n",
      "7 9 63\n",
      "7 10 70\n",
      "8 2 16\n",
      "8 3 24\n",
      "8 4 32\n",
      "8 5 40\n",
      "8 6 48\n",
      "8 7 56\n",
      "8 8 64\n",
      "8 9 72\n",
      "8 10 80\n",
      "9 2 18\n",
      "9 3 27\n",
      "9 4 36\n",
      "9 5 45\n",
      "9 6 54\n",
      "9 7 63\n",
      "9 8 72\n",
      "9 9 81\n",
      "9 10 90\n"
     ]
    }
   ],
   "source": [
    "def area_paralel(base, altura):\n",
    "    return base * altura\n",
    "\n",
    "for x in range(1,10):\n",
    "    for y in range(2,11):\n",
    "        print(x, y, area_paralel(x,y)) "
   ]
  },
  {
   "cell_type": "code",
   "execution_count": 31,
   "metadata": {},
   "outputs": [
    {
     "name": "stdout",
     "output_type": "stream",
     "text": [
      "10 2 10.0\n",
      "20 3 30.0\n"
     ]
    }
   ],
   "source": [
    "def triangulo_area(x,y):\n",
    "    return x*(y/2)\n",
    "\n",
    "for x, y in zip(range(10,21,10),range(2,4)):\n",
    "    print(x, y, triangulo_area(x,y))"
   ]
  },
  {
   "cell_type": "code",
   "execution_count": 42,
   "metadata": {},
   "outputs": [
    {
     "name": "stdout",
     "output_type": "stream",
     "text": [
      "10 43.30127018922193\n",
      "20 173.20508075688772\n"
     ]
    }
   ],
   "source": [
    "import math \n",
    "\n",
    "def triang_equi(base):\n",
    "    return math.sqrt(3)*(base**2)/4\n",
    "\n",
    "for x in range(10,21,10):\n",
    "    print(x, triang_equi(x))"
   ]
  },
  {
   "cell_type": "code",
   "execution_count": 44,
   "metadata": {},
   "outputs": [
    {
     "name": "stdout",
     "output_type": "stream",
     "text": [
      "   Base        Area\n",
      "0    20  173.205081\n",
      "1    30  389.711432\n"
     ]
    }
   ],
   "source": [
    "table = [20,30]\n",
    "df = pd.DataFrame(table, columns=[\"Base\"])\n",
    "df[\"Area\"] = df[\"Base\"].apply(triang_equi)\n",
    "print(df)"
   ]
  },
  {
   "cell_type": "code",
   "execution_count": 6,
   "metadata": {},
   "outputs": [
    {
     "name": "stdout",
     "output_type": "stream",
     "text": [
      "    Fahrenheit    Celsius\n",
      "0            0 -17.777778\n",
      "1           10 -12.222222\n",
      "2           20  -6.666667\n",
      "3           30  -1.111111\n",
      "4           40   4.444444\n",
      "5           50  10.000000\n",
      "6           60  15.555556\n",
      "7           70  21.111111\n",
      "8           80  26.666667\n",
      "9           90  32.222222\n",
      "10         100  37.777778\n"
     ]
    }
   ],
   "source": [
    "# create a variable that holds those values and then print them out\n",
    "# in a table format\n",
    "temps = [0,10,20,30,40,50,60,70,80,90,100]\n",
    "df = pd.DataFrame(temps, columns=[\"Fahrenheit\"])\n",
    "df[\"Celsius\"] = df[\"Fahrenheit\"].apply(to_celsius)\n",
    "print(df)"
   ]
  },
  {
   "cell_type": "code",
   "execution_count": 9,
   "metadata": {},
   "outputs": [
    {
     "data": {
      "image/png": "[encoded data removed]",
      "text/plain": [
       "<Figure size 640x480 with 1 Axes>"
      ]
     },
     "metadata": {},
     "output_type": "display_data"
    }
   ],
   "source": [
    "#create a function of fourier transform\n",
    "import numpy as np\n",
    "import matplotlib.pyplot as plt\n",
    "\n",
    "def fourier_transform(n):\n",
    "    x = np.linspace(0, 2*np.pi, 1000)\n",
    "    y = np.zeros_like(x)\n",
    "    for i in range(1,n+1):\n",
    "        y += np.sin(i*x)/i\n",
    "    return x,y\n",
    "\n",
    "x,y = fourier_transform(1)\n",
    "plt.plot(x,y)\n",
    "plt.show()\n",
    "\n"
   ]
  },
  {
   "cell_type": "code",
   "execution_count": 10,
   "metadata": {},
   "outputs": [],
   "source": [
    "#create a function of fourier transform\n",
    "import numpy as np\n",
    "import matplotlib.pyplot as plt\n",
    "\n",
    "def fourier_transform(n):\n",
    "    x = np.linspace(0, 2*np.pi, 1000)\n",
    "    y = np.zeros_like(x)\n",
    "    for i in range(1,n+1):\n",
    "        y += np.sin(i*x)/i\n",
    "    return x,y"
   ]
  },
  {
   "cell_type": "code",
   "execution_count": 11,
   "metadata": {},
   "outputs": [
    {
     "data": {
      "image/png": "[encoded data removed]",
      "text/plain": [
       "<Figure size 640x480 with 1 Axes>"
      ]
     },
     "metadata": {},
     "output_type": "display_data"
    }
   ],
   "source": [
    "# create a table of fourier transforms\n",
    "df = pd.DataFrame()\n",
    "for i in range(1,6):\n",
    "    x,y = fourier_transform(i)\n",
    "    df[f\"Fourier transform {i}\"] = y\n",
    "df[\"x\"] = x\n",
    "df.plot(x=\"x\")\n",
    "plt.show()"
   ]
  },
  {
   "cell_type": "code",
   "execution_count": 13,
   "metadata": {},
   "outputs": [
    {
     "data": {
      "image/png": "[encoded data removed]",
      "text/plain": [
       "<Figure size 640x480 with 1 Axes>"
      ]
     },
     "metadata": {},
     "output_type": "display_data"
    }
   ],
   "source": [
    "# create a function of the fft\n",
    "import numpy as np\n",
    "import matplotlib.pyplot as plt\n",
    "\n",
    "def fourier_transform(n):\n",
    "    x = np.linspace(0, 2*np.pi, 1000)\n",
    "    y = np.zeros_like(x)\n",
    "    for i in range(1,n+1):\n",
    "        y += np.sin(i*x)/i\n",
    "    return x,y\n",
    "\n",
    "def fft(n):\n",
    "    x = np.linspace(0, 2*np.pi, 1000)\n",
    "    y = np.zeros_like(x)\n",
    "    for i in range(1,n+1):\n",
    "        y += np.sin(i*x)/i\n",
    "    return np.fft.fft(y)\n",
    "\n",
    "# create a table of fourier transforms\n",
    "df = pd.DataFrame()\n",
    "for i in range(1,6):\n",
    "    y = fft(i)\n",
    "    df[f\"Fourier transform {i}\"] = np.abs(y)\n",
    "df[\"x\"] = np.fft.fftfreq(1000)\n",
    "df.plot(x=\"x\")\n",
    "plt.show()  # this is the fast fourier transform"
   ]
  },
  {
   "cell_type": "code",
   "execution_count": 60,
   "metadata": {},
   "outputs": [
    {
     "data": {
      "text/html": [
       "<div>\n",
       "<style scoped>\n",
       "    .dataframe tbody tr th:only-of-type {\n",
       "        vertical-align: middle;\n",
       "    }\n",
       "\n",
       "    .dataframe tbody tr th {\n",
       "        vertical-align: top;\n",
       "    }\n",
       "\n",
       "    .dataframe thead th {\n",
       "        text-align: right;\n",
       "    }\n",
       "</style>\n",
       "<table border=\"1\" class=\"dataframe\">\n",
       "  <thead>\n",
       "    <tr style=\"text-align: right;\">\n",
       "      <th></th>\n",
       "      <th>Farenheit</th>\n",
       "      <th>Celsius</th>\n",
       "    </tr>\n",
       "  </thead>\n",
       "  <tbody>\n",
       "    <tr>\n",
       "      <th>0</th>\n",
       "      <td>0</td>\n",
       "      <td>-17.777778</td>\n",
       "    </tr>\n",
       "    <tr>\n",
       "      <th>1</th>\n",
       "      <td>10</td>\n",
       "      <td>-12.222222</td>\n",
       "    </tr>\n",
       "    <tr>\n",
       "      <th>2</th>\n",
       "      <td>20</td>\n",
       "      <td>-6.666667</td>\n",
       "    </tr>\n",
       "    <tr>\n",
       "      <th>3</th>\n",
       "      <td>30</td>\n",
       "      <td>-1.111111</td>\n",
       "    </tr>\n",
       "    <tr>\n",
       "      <th>4</th>\n",
       "      <td>40</td>\n",
       "      <td>4.444444</td>\n",
       "    </tr>\n",
       "    <tr>\n",
       "      <th>5</th>\n",
       "      <td>50</td>\n",
       "      <td>10.000000</td>\n",
       "    </tr>\n",
       "    <tr>\n",
       "      <th>6</th>\n",
       "      <td>60</td>\n",
       "      <td>15.555556</td>\n",
       "    </tr>\n",
       "    <tr>\n",
       "      <th>7</th>\n",
       "      <td>70</td>\n",
       "      <td>21.111111</td>\n",
       "    </tr>\n",
       "    <tr>\n",
       "      <th>8</th>\n",
       "      <td>80</td>\n",
       "      <td>26.666667</td>\n",
       "    </tr>\n",
       "    <tr>\n",
       "      <th>9</th>\n",
       "      <td>90</td>\n",
       "      <td>32.222222</td>\n",
       "    </tr>\n",
       "    <tr>\n",
       "      <th>10</th>\n",
       "      <td>100</td>\n",
       "      <td>37.777778</td>\n",
       "    </tr>\n",
       "  </tbody>\n",
       "</table>\n",
       "</div>"
      ],
      "text/plain": [
       "    Farenheit    Celsius\n",
       "0           0 -17.777778\n",
       "1          10 -12.222222\n",
       "2          20  -6.666667\n",
       "3          30  -1.111111\n",
       "4          40   4.444444\n",
       "5          50  10.000000\n",
       "6          60  15.555556\n",
       "7          70  21.111111\n",
       "8          80  26.666667\n",
       "9          90  32.222222\n",
       "10        100  37.777778"
      ]
     },
     "execution_count": 60,
     "metadata": {},
     "output_type": "execute_result"
    }
   ],
   "source": [
    "def degrees(x):\n",
    "    return (x-32)*5/9\n",
    "\n",
    "temps = [x for x in range(0, 101, 10)]\n",
    "df =  pd.DataFrame(temps, columns=[\"Farenheit\"])\n",
    "\n",
    "df[\"Celsius\"] = df[\"Farenheit\"].apply(degrees)\n",
    "df\n"
   ]
  },
  {
   "cell_type": "code",
   "execution_count": 66,
   "metadata": {},
   "outputs": [
    {
     "data": {
      "text/html": [
       "<div>\n",
       "<style scoped>\n",
       "    .dataframe tbody tr th:only-of-type {\n",
       "        vertical-align: middle;\n",
       "    }\n",
       "\n",
       "    .dataframe tbody tr th {\n",
       "        vertical-align: top;\n",
       "    }\n",
       "\n",
       "    .dataframe thead th {\n",
       "        text-align: right;\n",
       "    }\n",
       "</style>\n",
       "<table border=\"1\" class=\"dataframe\">\n",
       "  <thead>\n",
       "    <tr style=\"text-align: right;\">\n",
       "      <th></th>\n",
       "      <th>Farenheit</th>\n",
       "      <th>Celsius</th>\n",
       "    </tr>\n",
       "  </thead>\n",
       "  <tbody>\n",
       "    <tr>\n",
       "      <th>1</th>\n",
       "      <td>10</td>\n",
       "      <td>-12.222222</td>\n",
       "    </tr>\n",
       "  </tbody>\n",
       "</table>\n",
       "</div>"
      ],
      "text/plain": [
       "   Farenheit    Celsius\n",
       "1         10 -12.222222"
      ]
     },
     "execution_count": 66,
     "metadata": {},
     "output_type": "execute_result"
    }
   ],
   "source": [
    "df[:-1][1:2]"
   ]
  },
  {
   "cell_type": "code",
   "execution_count": 16,
   "metadata": {},
   "outputs": [
    {
     "data": {
      "text/plain": [
       "5"
      ]
     },
     "execution_count": 16,
     "metadata": {},
     "output_type": "execute_result"
    }
   ],
   "source": [
    "#cours\n",
    "zip =  12534\n",
    "# extraire the 2 first digits\n",
    "zip // 1\n",
    "\n",
    "# extraire the 2 last digits\n",
    "zip % 1000\n",
    "\n",
    "# extraire the 2 middle digits\n",
    "(zip // 100) % 10"
   ]
  },
  {
   "cell_type": "code",
   "execution_count": 11,
   "metadata": {},
   "outputs": [
    {
     "data": {
      "text/plain": [
       "'12'"
      ]
     },
     "execution_count": 11,
     "metadata": {},
     "output_type": "execute_result"
    }
   ],
   "source": [
    "wip = \"12345\"\n",
    "# extraire the 2 first digits with []\n",
    "wip[:2]"
   ]
  },
  {
   "cell_type": "code",
   "execution_count": null,
   "metadata": {},
   "outputs": [
    {
     "ename": "AttributeError",
     "evalue": "'int' object has no attribute 'append'",
     "output_type": "error",
     "traceback": [
      "\u001b[0;31m---------------------------------------------------------------------------\u001b[0m",
      "\u001b[0;31mAttributeError\u001b[0m                            Traceback (most recent call last)",
      "Cell \u001b[0;32mIn[19], line 3\u001b[0m\n\u001b[1;32m      1\u001b[0m \u001b[38;5;66;03m#si uso append como seria si wip = 1234 con append\u001b[39;00m\n\u001b[1;32m      2\u001b[0m wip \u001b[38;5;241m=\u001b[39m \u001b[38;5;241m1234\u001b[39m\n\u001b[0;32m----> 3\u001b[0m \u001b[43mwip\u001b[49m\u001b[38;5;241;43m.\u001b[39;49m\u001b[43mappend\u001b[49m(\u001b[38;5;241m0\u001b[39m)\n\u001b[1;32m      4\u001b[0m wip\n",
      "\u001b[0;31mAttributeError\u001b[0m: 'int' object has no attribute 'append'"
     ]
    }
   ],
   "source": [
    "# simple if statement example avec else et elif\n",
    "x = 10\n",
    "if x > 10:\n",
    "    print(\"x is greater than 10\")\n",
    "elif x < 10:\n",
    "    print(\"x is less than 10\")"
   ]
  },
  {
   "cell_type": "code",
   "execution_count": null,
   "metadata": {},
   "outputs": [],
   "source": [
    "# Define a function called zip_checker that accepts the following argument:\n",
    "\n",
    "#zipcode - a string with either four or five characters\n",
    "#Return:\n",
    "\n",
    "#If zipcode has five characters, and the first two characters are NOT '00', return zipcode as a string. Otherwise, return 'Invalid ZIP Code.'. (ZIP Codes do not begin with 00 in the mainland U.S.)\n",
    "#If zipcode has four characters and the first character is NOT '0', the function must add a zero to the beginning of the string and return the five-character zipcode as a string.\n",
    "#If zipcode has four characters and the first character is '0', the function must return 'Invalid ZIP Code.'\n",
    "#If zipcode has more than five characters, the function must return 'Invalid ZIP Code.'\n",
    "\n",
    "def zip_checker(zipcode):\n",
    "    if len(zipcode) == 5 and zipcode[:2] != \"00\":\n",
    "        return zipcode\n",
    "    elif len(zipcode) == 4 and zipcode[0] != \"0\":\n",
    "        return \"0\" + zipcode\n",
    "    else:\n",
    "        return \"Invalid ZIP Code.\""
   ]
  },
  {
   "cell_type": "code",
   "execution_count": null,
   "metadata": {},
   "outputs": [
    {
     "name": "stdout",
     "output_type": "stream",
     "text": [
      "r626c36\n"
     ]
    }
   ],
   "source": [
    "url = 'https://example/URL1.com/r626c36'\n",
    "\n",
    "# extract the characters after the last '/'\n",
    "#url.split(\"/\")[-1]\n",
    "\n",
    "# extract the characters after the last '/' using a for and url[-1]\n",
    "for i in range(len(url)-1, -1, -1):\n",
    "    if url[i] == \"/\":\n",
    "        print(url[i+1:])\n",
    "        break\n",
    "\n",
    "# extract the characters after the last '/' using a for and url[-1] and save it in a variable to use out of the loop\n",
    "file = \"\"\n",
    "for i in range(len(url)-1, -1, -1):\n",
    "    if url[i] == \"/\":\n",
    "        file = url[i+1:]\n",
    "        break   "
   ]
  },
  {
   "cell_type": "code",
   "execution_count": 39,
   "metadata": {},
   "outputs": [
    {
     "data": {
      "text/plain": [
       "'https:'"
      ]
     },
     "execution_count": 39,
     "metadata": {},
     "output_type": "execute_result"
    }
   ],
   "source": [
    "url = 'https://exampleURL1.com/r626c36'\n",
    "\n",
    "# check with a for loop if the url starts with 'http' and save it in a variable outside the loop\n",
    "\n",
    "protocol = \"\"\n",
    "\n",
    "for i in range(0, len(url)):\n",
    "    if url[i] == \"/\":\n",
    "        protocol = url[:i]\n",
    "        break\n",
    "\n",
    "protocol"
   ]
  },
  {
   "cell_type": "code",
   "execution_count": 40,
   "metadata": {},
   "outputs": [],
   "source": [
    "# Sample valid URL for reference while writing your function:\n",
    "url = 'https://exampleURL1.com/r626c36'\n",
    "\n",
    "### YOUR CODE HERE ###\n",
    "def url_checker(url):\n",
    "    \n",
    "    store_id = \"\"\n",
    "    for i in range(len(url)-1,-1,-1):\n",
    "        if url[i] == \"/\":\n",
    "            store_id =url[i+1:]\n",
    "            break\n",
    "            \n",
    "    protocol = \"\"\n",
    "    for i in range(0,len(url)):\n",
    "        if url[i] == \"/\":\n",
    "            protocol = url[:i]\n",
    "            break\n",
    "\n",
    "    errors = []\n",
    "    if not (protocol == \"https:\"):\n",
    "        errors.append(f'{protocol} is a invalid protocol')\n",
    "    if not (len(store_id) == 7):\n",
    "        errors.append(f'{store_id} is an invalid store ID')\n",
    "        \n",
    "    if errors:\n",
    "        print(\"\\n\".join(errors))\n",
    "    else:\n",
    "        print(store_id)"
   ]
  },
  {
   "cell_type": "code",
   "execution_count": 41,
   "metadata": {},
   "outputs": [
    {
     "name": "stdout",
     "output_type": "stream",
     "text": [
      "http: is a invalid protocol\n",
      "r626c3 is an invalid store ID\n",
      "\n",
      "ftps: is a invalid protocol\n",
      "\n",
      "r626c3 is an invalid store ID\n",
      "\n",
      "r626c36\n"
     ]
    }
   ],
   "source": [
    "# RUN THIS CELL TO TEST YOUR FUCTION            # Should return:\n",
    "url_checker('http://exampleURL1.com/r626c3')    # 'http: is an invalid protocol.'\n",
    "print()                                         # 'r626c3 is an invalid store ID.'\n",
    "\n",
    "url_checker('ftps://exampleURL1.com/r626c36')   # 'ftps: is an invalid protocol.\n",
    "print()\n",
    "url_checker('https://exampleURL1.com/r626c3')   # 'r626c3 is an invalid store ID.'\n",
    "print()\n",
    "url_checker('https://exampleURL1.com/r626c36')  # 'r626c36'"
   ]
  },
  {
   "cell_type": "code",
   "execution_count": null,
   "metadata": {},
   "outputs": [],
   "source": []
  }
 ],
 "metadata": {
  "kernelspec": {
   "display_name": "Artefact",
   "language": "python",
   "name": "python3"
  },
  "language_info": {
   "codemirror_mode": {
    "name": "ipython",
    "version": 3
   },
   "file_extension": ".py",
   "mimetype": "text/x-python",
   "name": "python",
   "nbconvert_exporter": "python",
   "pygments_lexer": "ipython3",
   "version": "3.10.12"
  }
 },
 "nbformat": 4,
 "nbformat_minor": 2
}
