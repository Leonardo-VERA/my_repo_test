{
 "cells": [
  {
   "cell_type": "code",
   "execution_count": null,
   "metadata": {},
   "outputs": [],
   "source": [
    "import pandas as pd"
   ]
  },
  {
   "cell_type": "code",
   "execution_count": 1,
   "metadata": {},
   "outputs": [],
   "source": [
    "import os\n",
    "import random\n",
    "\n",
    "import click\n",
    "import pandas"
   ]
  },
  {
   "cell_type": "code",
   "execution_count": null,
   "metadata": {},
   "outputs": [],
   "source": [
    "import os\n",
    "import random\n",
    "\n",
    "import click\n",
    "import pandas\n",
    "\n",
    "# TODO: Say hello to more people\n",
    "@click.command()\n",
    "@click.option(\"--name\", prompt=\"Your name\", help=\"The person to greet.\")\n",
    "def hello(name):\n",
    "    click.echo(f\"Hello {name}!\")\n",
    "\n",
    "if __name__ == \"__main__\":\n",
    "    hello()\n"
   ]
  },
  {
   "cell_type": "code",
   "execution_count": null,
   "metadata": {},
   "outputs": [],
   "source": [
    "[tool.poetry]\n",
    "name = \"aloys\"\n",
    "version = \"0.1.0\"\n",
    "description = \"Proyecto de ejemplo con Poetry y Click\"\n",
    "authors = [\"Tu Nombre <tu_correo@example.com>\"]\n",
    "readme = \"README.md\"\n",
    "\n",
    "# Python >= 3.10\n",
    "# (esto dependerá de la versión que tu profesor o tú estén usando)\n",
    "[tool.poetry.dependencies]\n",
    "python = \"^3.10\"\n",
    "click = \"^8.1.3\"\n",
    "\n",
    "[tool.poetry.scripts]\n",
    "hello = \"aloys.main:hello\"\n",
    "\n",
    "[build-system]\n",
    "requires = [\"poetry-core>=1.0.0\"]\n",
    "build-backend = \"poetry.core.masonry.api\"\n",
    "\n",
    "[tool.black]\n",
    "line-length = 88\n",
    "target-version = [\"py310\"]\n",
    "skip-string-normalization = true\n"
   ]
  },
  {
   "cell_type": "markdown",
   "metadata": {},
   "source": [
    "El tema principal de estos archivos es la creación de un comando de línea de comandos (CLI) en Python usando la librería Click y gestionando todo el proyecto con la herramienta Poetry. Además, se está configurando la herramienta Black para dar formato al código.\n",
    "\n",
    "Click:\n",
    "\n",
    "Es una librería de Python para construir interfaces de línea de comando de forma sencilla.\n",
    "Permite crear comandos, subcomandos y opciones con muy poco código.\n",
    "Por ejemplo, en el código se ve un comando hello con la opción --name para saludar a un usuario.\n",
    "Poetry:\n",
    "\n",
    "Es un gestor de dependencias y empaquetado para Python.\n",
    "Te facilita crear y mantener el archivo de configuración (pyproject.toml) donde se declaran las dependencias (por ejemplo, qué versión de Python necesitas, la librería Click, etc.).\n",
    "También permite “instalar” tu proyecto localmente para poder usar los comandos que has definido, en este caso el comando hello.\n",
    "Black:\n",
    "\n",
    "Es un “formateador de código” automático para Python.\n",
    "Ajusta estilo (saltos de línea, uso de comillas, etc.) con reglas muy específicas, manteniendo un estándar.\n",
    "En el pyproject.toml configuras la longitud máxima de línea (line-length = 88) y opciones sobre comillas (skip-string-normalization = true).\n",
    "En resumen\n",
    "Objetivo del ejercicio:\n",
    "Aprender a crear un script en Python que funcione como un comando de consola (CLI), usando la sintaxis y decoradores de Click (por eso se usa @click.command() y @click.option).\n",
    "\n",
    "Cómo se integra todo:\n",
    "\n",
    "Con Poetry administras tu proyecto (instalación de librerías y organización del código).\n",
    "Con Click creas el comando para que, al ejecutar poetry run hello (o solo hello si ya está instalado), te pida tu nombre y luego muestre un mensaje de saludo.\n",
    "Con Black te aseguras de que todo tu código respete un estilo uniforme.\n",
    "En otras palabras, es un ejemplo didáctico de cómo juntar:\n",
    "\n",
    "Un comando de consola hecho en Python,\n",
    "El sistema de empaquetado y administración de dependencias (Poetry),\n",
    "Y una herramienta de formateo (Black), para que el proyecto siga las mejores prácticas de estilo y sea fácil de usar e instalar.\n",
    "\n",
    "\n",
    "\n",
    "\n",
    "\n",
    "\n"
   ]
  },
  {
   "cell_type": "code",
   "execution_count": null,
   "metadata": {},
   "outputs": [],
   "source": []
  }
 ],
 "metadata": {
  "kernelspec": {
   "display_name": "Artefact",
   "language": "python",
   "name": "python3"
  },
  "language_info": {
   "codemirror_mode": {
    "name": "ipython",
    "version": 3
   },
   "file_extension": ".py",
   "mimetype": "text/x-python",
   "name": "python",
   "nbconvert_exporter": "python",
   "pygments_lexer": "ipython3",
   "version": "3.10.12"
  }
 },
 "nbformat": 4,
 "nbformat_minor": 2
}
